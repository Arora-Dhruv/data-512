{
 "cells": [
  {
   "cell_type": "markdown",
   "metadata": {},
   "source": [
    "# Motivation and Problem Statement\n",
    "\n",
    "The COVID-19 pandemic has caused unprecedented public health and economic crises. I have an interest in doing statistical data analysis to attempt to uncover data-driven insights that are not easy to find over the internet or have not uncovered yet, to best of my knowledge. I want to apply my data science skills to explore COVID-19 data for US and come up with research questions that can potentially help different govt. agencies to make data driven decisions.   \n",
    "\n",
    "My plan is to focus on understanding the relationship between testing, confirmed positive cases and hospitalization. If I am able to establish a significant relationship of any kind, it can help in multiple ways. My hypothesis is to verify if there is any \"lead effect\" exist - \"increase in testing\" leads to \"increase in hospitalization\" X days later. The idea is similar to websites like \"Redfin\" i.e. increase in \"pending\" state of listed homes leads to increase in \"sales\" of home after 60 days on average. There are lot of covid hospitalization forecast models out there but answering the analytical questions like this can help agencies to make data driven decisions and can also help forecasters to refine the features as learned from this analysis. \n",
    "\n",
    "I will also be exploring the evolving COVID rapid antigen test results that has been used an alternative to PCR testing to avoid home quarantine after out of state travel. Example: Hawaii requires antigen tests to avoid quarantine. The high false negative in an antigen test results have potential consequences and may contribute to spreading virus. The specific research questions are mentioned later in the document."
   ]
  },
  {
   "cell_type": "markdown",
   "metadata": {},
   "source": [
    "# Data\n",
    "\n",
    "The data is available on [Covidtracking.com](https://covidtracking.com/) which is a volunteer organization launched from The Atlantic and dedicated to collecting and publishing the data required to understand the COVID-19 outbreak in the United States. The site collects the data from all 50 states and their data is being used by national and local news organizations across the US.  \n",
    "#### Link to the Dataset: [Here](https://covidtracking.com/data/api)\n",
    "#### Link to the Data Defintions: [Here](https://covidtracking.com/about-data/data-definitions)\n",
    "#### Terms and Conditions for the Data: [Here](https://covidtracking.com/terms-and-conditions). \n",
    "The Datasource is one of the reliable sources of COVID data collection and also used by John Hopkins for its testing insights initiative. The website collects data by bottom up approach i.e. rolls up data from each state of the US. It report different metrics that captures various nuances such as over all testing, NPR testing, \"probable\" testing when not available and much more detailed metrics. The data granularity is at day level and each state which makes upto 13k rows and 45 dimensions. There do not seem to be any ethical considerations for using the dataset."
   ]
  },
  {
   "cell_type": "markdown",
   "metadata": {},
   "source": [
    "# Unknowns and dependencies\n",
    "\n",
    "\n",
    "The dataset seems rich and do not have any unknowns or dependencies which can be seen before exploring the dataset. The only unknown is that we may not be able to reach conclusion if the the cross correlations of time-series data over time is not statistically significant but that can also be a part of learning."
   ]
  },
  {
   "cell_type": "markdown",
   "metadata": {},
   "source": [
    "# Research questions\n",
    "\n",
    "1. <b>Research Question:</b> Understand time based cross-correlation between COVID-19 testing, positive cases and hospitalization i.e the lead effect of testing?    \n",
    "\n",
    "    <b>Hypothesis:</b> Number of testing has \"lead effect\" on positive cases and hospitalization i.e. number of people getting tested today will impact the number of hospitalization after X days. We would also explore this hypothesis at deeper segments such as by different states, if time allows.  \n",
    "    \n",
    "    \n",
    "    \n",
    "2. <b>Research Question</b>: How reliable are rapid Antigen test and its consequence in spreading virus in states such as [Hawaii](https://hawaiicovid19.com/travel-partners/)?    \n",
    "\n",
    "   <b>Hypothesis:</b> Various reports have shown that Antigen test have false negative as high as 50%, and the test is a popular alternative to avoid quarantine after out of state travel in US (Example- [Hawaii](https://hawaiicovid19.com/travel-partners/)). We want to explore scenarios how the false negatives can potentially lead to more spread of virus, if any.\n"
   ]
  },
  {
   "cell_type": "markdown",
   "metadata": {},
   "source": [
    "# Related Work\n",
    "\n",
    "1. <b> [CDC's COVID hospitalization forecast](https://www.cdc.gov/coronavirus/2019-ncov/cases-updates/hospitalizations-forecasts.html#:~:text=Interpretation%20of%20Forecasts%20of%20New%20Hospitalizations&text=For%20December%207%2C%20the%20forecasts,which%20results%20from%20multiple%20factors) </b> - The forecast models are available from different modelling groups using variety of data such as syndromic, clinical, demographic, and mobility data etc. The model relies on multi-variate data to build forecast model. However, we are interested in an analytical question to understand the strength of correlation between testing and hospitalization. The analytical question can help agencies making data driven decisions with out a forecast model and can also help forecasters refine features for modelling.\n",
    "\n",
    "\n",
    "2. Harvard study- <b> [Which test is best for COVID-19? -](https://www.health.harvard.edu/blog/which-test-is-best-for-covid-19-2020081020734) </b>  This study mention the accuracy of antigen test and we want to build on top of it to understand the false negative consequences of this test.\n",
    "\n",
    "\n",
    "\n",
    "3. <b> [FDA warns of COVID-19 antigen test false positives as report flags Quidel on accuracy-](https://www.medtechdive.com/news/fda-warns-of-covid-19-antigen-test-false-positives-as-report-flags-quidel-o/588349/) </b> There are known accuracy issues about antigen test results as mentioned in this FDA warning and we want to build on top of it to understand the false negative consequences of this test.\n"
   ]
  },
  {
   "cell_type": "markdown",
   "metadata": {},
   "source": [
    "# Methodology\n",
    "\n",
    "<b>Research Question 1:</b>  \n",
    "    Understand the time based cross-correlation between testing, positive cases and hospitalization. Plot the lag correlation of hospitalization with positive cases and testing, going back to 15 days. This will help us understand if lag values of testing and positive cases have any correlation with hospitalization. It is similar to auto-correlation plot (ACF & PACF), but done across the time-series. We will filter out the states where cases are low or have low quality of data as per the dataset. We will also explore different sources of positive cases from PCR testing vs antibody vs antigen testing to see if there is any heterogeneity. We will explore other techinques depending upon our learning from this approach. We can potentially also explore non-linear correlations if we could not establish any linear correlations.\n",
    "\n",
    "\n",
    "<b>Research Question 2:</b>\n",
    "We will estimate the count of people who might have gotten false negative results over time. For example: if Hawaii has 100 anitgen test done today and 80 came negative. We will apply false negative rate based on harvard study to count potential spreaders. In this case, that would be 40 people. We will plot this time-series against pcr positive case to find any potential lead effect if exists. This is a start and depending upon what we learn, we will accommodate our approach further."
   ]
  }
 ],
 "metadata": {
  "kernelspec": {
   "display_name": "Python 3",
   "language": "python",
   "name": "python3"
  },
  "language_info": {
   "codemirror_mode": {
    "name": "ipython",
    "version": 3
   },
   "file_extension": ".py",
   "mimetype": "text/x-python",
   "name": "python",
   "nbconvert_exporter": "python",
   "pygments_lexer": "ipython3",
   "version": "3.6.12"
  }
 },
 "nbformat": 4,
 "nbformat_minor": 4
}
