{
 "cells": [
  {
   "cell_type": "markdown",
   "metadata": {},
   "source": [
    "# Motivation and Problem Statement\n",
    "\n",
    "The COVID-19 pandemic has caused unprecedented public health and economic crises. I have an interest in doing data analysis to attempt to uncover data-driven insights that are not easy to find over the internet or have not uncovered yet, to best of my knowledge. I want to apply my data science skills to explore COVID-19 data for US and come up with research questions that can potentially help  different govt. agencies to make data driven decisions. My plan is to focus on understanding the relationship between testing, confirmed positive cases and hospitalization. If I am able to establish a significant relationship of any kind, it can help in multiple ways such as anticipating future postive cases or increase in hospitalization by different states. My hypothesis is to verify if there is any \"lead effect\" exist to increase in testing today leads to increase in hospitalization X days later. The idea is similar to websites like \"Redfin\" i.e. increase in pending houses leads to increase in home sales after 60 days on average. The specific research question could be more detailed as I explore the data as next steps.\n",
    "\n",
    "The draft research question is to find time based cross-correlation between testing, positive cases and hospitalization and see if it changes over time."
   ]
  },
  {
   "cell_type": "markdown",
   "metadata": {},
   "source": [
    "# Data\n",
    "\n",
    "The data is available on [Covidtracking.com](https://covidtracking.com/) which is a volunteer organization launched from The Atlantic and dedicated to collecting and publishing the data required to understand the COVID-19 outbreak in the United States. The site collects the data from all 50 states and their data is being used by national and local news organizations across the US.  \n",
    "#### Link to the Dataset: [Here](https://covidtracking.com/data/api)\n",
    "#### Link to the Data Defintions: [Here](https://covidtracking.com/about-data/data-definitions)\n",
    "#### Terms and Conditions for the Data: [Here](https://covidtracking.com/terms-and-conditions). \n",
    "The Datasource is one of the reliable sources of COVID data collection and also used by John Hopkins for its testing insights initiative. The website collects data by bottom up approach i.e. rolls up data from each state of the US. It report different metrics that captures various nuances such as over all testing, NPR testing, \"probable\" testing when not available and much more detailed metrics. The data granularity is at day level and each state which makes upto 13k rows and 45 dimensions. There do not seem to be any ethical considerations for using the dataset."
   ]
  },
  {
   "cell_type": "markdown",
   "metadata": {},
   "source": [
    "# Unknowns and dependencies\n",
    "\n",
    "\n",
    "The dataset seems rich and do not have any unknowns or dependencies which can be seen before exploring the dataset. The only unknown is that we may not be able to reach conclusion if the the cross correlations of time-series data over time is not statistically significant but that can also be a part of learning."
   ]
  }
 ],
 "metadata": {
  "kernelspec": {
   "display_name": "Python 3",
   "language": "python",
   "name": "python3"
  },
  "language_info": {
   "codemirror_mode": {
    "name": "ipython",
    "version": 3
   },
   "file_extension": ".py",
   "mimetype": "text/x-python",
   "name": "python",
   "nbconvert_exporter": "python",
   "pygments_lexer": "ipython3",
   "version": "3.6.12"
  }
 },
 "nbformat": 4,
 "nbformat_minor": 4
}
